{
  "nbformat": 4,
  "nbformat_minor": 0,
  "metadata": {
    "kernelspec": {
      "display_name": "vjupyter",
      "language": "python",
      "name": "vjupyter"
    },
    "language_info": {
      "codemirror_mode": {
        "name": "ipython",
        "version": 3
      },
      "file_extension": ".py",
      "mimetype": "text/x-python",
      "name": "python",
      "nbconvert_exporter": "python",
      "pygments_lexer": "ipython3",
      "version": "3.6.9"
    },
    "colab": {
      "name": "cnn_mnist_tf.ipynb의 사본",
      "provenance": [],
      "collapsed_sections": []
    }
  },
  "cells": [
    {
      "cell_type": "markdown",
      "metadata": {
        "id": "a8Hxbg_D0hHk"
      },
      "source": [
        "# LeNet - CNN Tensorflow 예제"
      ]
    },
    {
      "cell_type": "markdown",
      "metadata": {
        "id": "uhrtt5AZ21KZ"
      },
      "source": [
        "환경 세팅"
      ]
    },
    {
      "cell_type": "code",
      "metadata": {
        "colab": {
          "base_uri": "https://localhost:8080/"
        },
        "id": "MOFBMKLg07yg",
        "outputId": "606fa8b6-1b24-48d2-a949-ad793233f4ec"
      },
      "source": [
        "pip install setuptools==44.0.0 tensorflow==1.14.0 Cython contextlib2 matplotlib pillow lxml gast==0.2.2"
      ],
      "execution_count": null,
      "outputs": [
        {
          "output_type": "stream",
          "text": [
            "Requirement already satisfied: setuptools==44.0.0 in /usr/local/lib/python3.6/dist-packages (44.0.0)\n",
            "Requirement already satisfied: tensorflow==1.14.0 in /usr/local/lib/python3.6/dist-packages (1.14.0)\n",
            "Requirement already satisfied: Cython in /usr/local/lib/python3.6/dist-packages (0.29.21)\n",
            "Requirement already satisfied: contextlib2 in /usr/local/lib/python3.6/dist-packages (0.5.5)\n",
            "Requirement already satisfied: matplotlib in /usr/local/lib/python3.6/dist-packages (3.2.2)\n",
            "Requirement already satisfied: pillow in /usr/local/lib/python3.6/dist-packages (7.0.0)\n",
            "Requirement already satisfied: lxml in /usr/local/lib/python3.6/dist-packages (4.2.6)\n",
            "Requirement already satisfied: gast==0.2.2 in /usr/local/lib/python3.6/dist-packages (0.2.2)\n",
            "Requirement already satisfied: six>=1.10.0 in /usr/local/lib/python3.6/dist-packages (from tensorflow==1.14.0) (1.15.0)\n",
            "Requirement already satisfied: numpy<2.0,>=1.14.5 in /usr/local/lib/python3.6/dist-packages (from tensorflow==1.14.0) (1.19.5)\n",
            "Requirement already satisfied: grpcio>=1.8.6 in /usr/local/lib/python3.6/dist-packages (from tensorflow==1.14.0) (1.32.0)\n",
            "Requirement already satisfied: tensorflow-estimator<1.15.0rc0,>=1.14.0rc0 in /usr/local/lib/python3.6/dist-packages (from tensorflow==1.14.0) (1.14.0)\n",
            "Requirement already satisfied: wrapt>=1.11.1 in /usr/local/lib/python3.6/dist-packages (from tensorflow==1.14.0) (1.12.1)\n",
            "Requirement already satisfied: protobuf>=3.6.1 in /usr/local/lib/python3.6/dist-packages (from tensorflow==1.14.0) (3.12.4)\n",
            "Requirement already satisfied: wheel>=0.26 in /usr/local/lib/python3.6/dist-packages (from tensorflow==1.14.0) (0.36.2)\n",
            "Requirement already satisfied: astor>=0.6.0 in /usr/local/lib/python3.6/dist-packages (from tensorflow==1.14.0) (0.8.1)\n",
            "Requirement already satisfied: keras-preprocessing>=1.0.5 in /usr/local/lib/python3.6/dist-packages (from tensorflow==1.14.0) (1.1.2)\n",
            "Requirement already satisfied: termcolor>=1.1.0 in /usr/local/lib/python3.6/dist-packages (from tensorflow==1.14.0) (1.1.0)\n",
            "Requirement already satisfied: absl-py>=0.7.0 in /usr/local/lib/python3.6/dist-packages (from tensorflow==1.14.0) (0.10.0)\n",
            "Requirement already satisfied: tensorboard<1.15.0,>=1.14.0 in /usr/local/lib/python3.6/dist-packages (from tensorflow==1.14.0) (1.14.0)\n",
            "Requirement already satisfied: google-pasta>=0.1.6 in /usr/local/lib/python3.6/dist-packages (from tensorflow==1.14.0) (0.2.0)\n",
            "Requirement already satisfied: keras-applications>=1.0.6 in /usr/local/lib/python3.6/dist-packages (from tensorflow==1.14.0) (1.0.8)\n",
            "Requirement already satisfied: kiwisolver>=1.0.1 in /usr/local/lib/python3.6/dist-packages (from matplotlib) (1.3.1)\n",
            "Requirement already satisfied: python-dateutil>=2.1 in /usr/local/lib/python3.6/dist-packages (from matplotlib) (2.8.1)\n",
            "Requirement already satisfied: pyparsing!=2.0.4,!=2.1.2,!=2.1.6,>=2.0.1 in /usr/local/lib/python3.6/dist-packages (from matplotlib) (2.4.7)\n",
            "Requirement already satisfied: cycler>=0.10 in /usr/local/lib/python3.6/dist-packages (from matplotlib) (0.10.0)\n",
            "Requirement already satisfied: werkzeug>=0.11.15 in /usr/local/lib/python3.6/dist-packages (from tensorboard<1.15.0,>=1.14.0->tensorflow==1.14.0) (1.0.1)\n",
            "Requirement already satisfied: markdown>=2.6.8 in /usr/local/lib/python3.6/dist-packages (from tensorboard<1.15.0,>=1.14.0->tensorflow==1.14.0) (3.3.3)\n",
            "Requirement already satisfied: h5py in /usr/local/lib/python3.6/dist-packages (from keras-applications>=1.0.6->tensorflow==1.14.0) (2.10.0)\n",
            "Requirement already satisfied: importlib-metadata; python_version < \"3.8\" in /usr/local/lib/python3.6/dist-packages (from markdown>=2.6.8->tensorboard<1.15.0,>=1.14.0->tensorflow==1.14.0) (3.3.0)\n",
            "Requirement already satisfied: typing-extensions>=3.6.4; python_version < \"3.8\" in /usr/local/lib/python3.6/dist-packages (from importlib-metadata; python_version < \"3.8\"->markdown>=2.6.8->tensorboard<1.15.0,>=1.14.0->tensorflow==1.14.0) (3.7.4.3)\n",
            "Requirement already satisfied: zipp>=0.5 in /usr/local/lib/python3.6/dist-packages (from importlib-metadata; python_version < \"3.8\"->markdown>=2.6.8->tensorboard<1.15.0,>=1.14.0->tensorflow==1.14.0) (3.4.0)\n"
          ],
          "name": "stdout"
        }
      ]
    },
    {
      "cell_type": "markdown",
      "metadata": {
        "id": "BobWINFD25hg"
      },
      "source": [
        "CNN 훈련 준비"
      ]
    },
    {
      "cell_type": "code",
      "metadata": {
        "id": "MNvtr7hs0hHv"
      },
      "source": [
        "# -*- coding: utf-8 -*-\n",
        "\n",
        "# 1. 패키지 임포트\n",
        "import tensorflow as tf\n",
        "import random\n",
        "from tensorflow.examples.tutorials.mnist import input_data\n",
        "\n",
        "tf.set_random_seed(777)  # reproducibility\n",
        "\n",
        "# 2. mnist 데이터 다운로드\n",
        "mnist = input_data.read_data_sets(\"./temp/MNIST_data/\", one_hot=True)"
      ],
      "execution_count": null,
      "outputs": []
    },
    {
      "cell_type": "code",
      "metadata": {
        "id": "CPOIZtTd0hHw"
      },
      "source": [
        "# 3. 하이퍼파라미터 세팅\n",
        "learning_rate = 0.01\n",
        "epochs = 40\n",
        "batch_size = 128\n",
        "display_step = 1\n",
        "\n",
        "# 4. 플레이스홀더 정의\n",
        "X = tf.placeholder(tf.float32, [None, 784])\n",
        "X_img = tf.reshape(X, [-1, 28, 28, 1])   # img 28x28x1 (black/white)\n",
        "Y = tf.placeholder(tf.float32, [None, 10])"
      ],
      "execution_count": null,
      "outputs": []
    },
    {
      "cell_type": "code",
      "metadata": {
        "id": "1rOjxRsc0hHw"
      },
      "source": [
        "# 5. 3 레이어 CNN 모델 함수\n",
        "def CNN_fuction(x):\n",
        "\n",
        "    # 6. CNN 모델의 Conv 레이어 1\n",
        "    W1 = tf.Variable(tf.random_normal([3, 3, 1, 32], stddev=0.01))\n",
        "    L1 = tf.nn.conv2d(X_img, W1, strides=[1, 1, 1, 1], padding='SAME')\n",
        "    L1 = tf.nn.relu(L1)\n",
        "    L1 = tf.nn.max_pool(L1, ksize=[1, 2, 2, 1],\n",
        "                    strides=[1, 2, 2, 1], padding='SAME')\n",
        "\n",
        "    # 7. CNN 모델의 Conv 레이어 2\n",
        "    W2 = tf.Variable(tf.random_normal([3, 3, 32, 64], stddev=0.01))\n",
        "    L2 = tf.nn.conv2d(L1, W2, strides=[1, 1, 1, 1], padding='SAME')\n",
        "    L2 = tf.nn.relu(L2)\n",
        "    L2 = tf.nn.max_pool(L2, ksize=[1, 2, 2, 1], strides=[1, 2, 2, 1], padding='SAME')\n",
        "    L2_flat = tf.reshape(L2, [-1, 7 * 7 * 64])\n",
        "\n",
        "    # 8. CNN 모델의 FC 레이어\n",
        "    W3 = tf.get_variable(\"W3\", shape=[7 * 7 * 64, 10], initializer=tf.contrib.layers.xavier_initializer())\n",
        "    b = tf.Variable(tf.random_normal([10]))\n",
        "    logits = tf.matmul(L2_flat, W3) + b\n",
        "  \n",
        "    return logits  \n"
      ],
      "execution_count": null,
      "outputs": []
    },
    {
      "cell_type": "markdown",
      "metadata": {
        "id": "H7wEd76N3AoA"
      },
      "source": [
        "CNN 훈련 시작"
      ]
    },
    {
      "cell_type": "code",
      "metadata": {
        "id": "Wa2eYzSl0hHw"
      },
      "source": [
        "# 9. CNN 모델 함수 호출\n",
        "logits = CNN_fuction(X)\n",
        "\n",
        "# 10. 손실함수와 최적화 함수\n",
        "cost =  tf.reduce_mean(tf.nn.softmax_cross_entropy_with_logits(\n",
        "    logits=logits, labels=Y))\n",
        "optimizer = tf.train.AdamOptimizer(learning_rate=learning_rate).minimize(cost)\n",
        "\n",
        "# 11. 세션 시작\n",
        "sess = tf.Session()\n",
        "sess.run(tf.global_variables_initializer())\n",
        "\n",
        "# 12. 훈련\n",
        "print(\"[CNN Trainig Start]\")\n",
        "print(mnist.train.num_examples / batch_size)"
      ],
      "execution_count": null,
      "outputs": []
    },
    {
      "cell_type": "code",
      "metadata": {
        "id": "qkzaZ27O0hHx"
      },
      "source": [
        "for epoch in range(epochs):\n",
        "    average_loss = 0\n",
        "    total_batch = int(mnist.train.num_examples / batch_size)\n",
        "\n",
        "    for i in range(total_batch):\n",
        "        batch_xs, batch_ys = mnist.train.next_batch(batch_size)\n",
        "        feed_dict = {X: batch_xs, Y: batch_ys}\n",
        "        c, _ = sess.run([cost, optimizer], feed_dict=feed_dict)\n",
        "        average_loss += c / total_batch\n",
        "\t\t\n",
        "\t# 13. 훈련 상태(현재 에포크의 손실 값) 출력\n",
        "    if epoch % display_step == 0:\n",
        "        print(\"[Epoch] %d, [Loss] %f\" % ((epoch+1), average_loss))\n",
        "\t#print(\"[Epoch] %d, [Loss] %f\" % ((epoch+1), average_loss))\n",
        "\n",
        "print(\"[CNN Trainig End]\")\n"
      ],
      "execution_count": null,
      "outputs": []
    },
    {
      "cell_type": "markdown",
      "metadata": {
        "id": "zQJQXH943Dvv"
      },
      "source": [
        "CNN 모델 예측"
      ]
    },
    {
      "cell_type": "code",
      "metadata": {
        "id": "orbgUS4P0hHx"
      },
      "source": [
        "# 14. 랜덤 데이터를 이용한 완성된 모델 예측\n",
        "r = random.randint(0, mnist.test.num_examples - 1)\n",
        "print(\"[Label] \", sess.run(tf.argmax(mnist.test.labels[r:r + 1], 1)))\n",
        "print(\"[Prediction] : \", sess.run(\n",
        "    tf.argmax(logits, 1), feed_dict={X: mnist.test.images[r:r + 1]}))"
      ],
      "execution_count": null,
      "outputs": []
    },
    {
      "cell_type": "code",
      "metadata": {
        "id": "jfEI-rQ00hHy"
      },
      "source": [
        ""
      ],
      "execution_count": null,
      "outputs": []
    }
  ]
}