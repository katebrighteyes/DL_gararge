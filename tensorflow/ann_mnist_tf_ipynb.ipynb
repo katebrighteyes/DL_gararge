{
  "nbformat": 4,
  "nbformat_minor": 0,
  "metadata": {
    "kernelspec": {
      "display_name": "vjupyter",
      "language": "python",
      "name": "vjupyter"
    },
    "language_info": {
      "codemirror_mode": {
        "name": "ipython",
        "version": 3
      },
      "file_extension": ".py",
      "mimetype": "text/x-python",
      "name": "python",
      "nbconvert_exporter": "python",
      "pygments_lexer": "ipython3",
      "version": "3.6.9"
    },
    "colab": {
      "name": "ann_mnist_tf.ipynb의 사본",
      "provenance": [],
      "collapsed_sections": []
    }
  },
  "cells": [
    {
      "cell_type": "markdown",
      "metadata": {
        "id": "-WQr-C1pGzjq"
      },
      "source": [
        "# 심층 신경망 Tensorflow 예제"
      ]
    },
    {
      "cell_type": "markdown",
      "metadata": {
        "id": "EmSHFPB1G4vJ"
      },
      "source": [
        "* Tensorflow 환경 설치"
      ]
    },
    {
      "cell_type": "code",
      "metadata": {
        "id": "R8AKGYlOExBj"
      },
      "source": [
        "pip install setuptools==44.0.0 tensorflow==1.14.0 Cython contextlib2 matplotlib pillow lxml gast==0.2.2"
      ],
      "execution_count": null,
      "outputs": []
    },
    {
      "cell_type": "markdown",
      "metadata": {
        "id": "JfOrMTaXHE6R"
      },
      "source": [
        "# 코드 시작"
      ]
    },
    {
      "cell_type": "markdown",
      "metadata": {
        "id": "bThiqRyTGjUD"
      },
      "source": [
        "1. 패키지 임포트"
      ]
    },
    {
      "cell_type": "code",
      "metadata": {
        "id": "pff8WAboEmQq"
      },
      "source": [
        "# -*- coding: utf-8 -*-\n",
        "\n",
        "import tensorflow as tf\n",
        "from tensorflow.examples.tutorials.mnist import input_data\n",
        "import random"
      ],
      "execution_count": null,
      "outputs": []
    },
    {
      "cell_type": "markdown",
      "metadata": {
        "id": "gd3_kp73EmQr"
      },
      "source": [
        "2. mnist 데이터 다운로드"
      ]
    },
    {
      "cell_type": "code",
      "metadata": {
        "id": "rhHBWHiXEmQs"
      },
      "source": [
        "mnist = input_data.read_data_sets(\"./temp/MNIST_data/\", one_hot=True)"
      ],
      "execution_count": null,
      "outputs": []
    },
    {
      "cell_type": "markdown",
      "metadata": {
        "id": "YHRAg57pEmQs"
      },
      "source": [
        "3. 하이퍼파라미터 세팅"
      ]
    },
    {
      "cell_type": "code",
      "metadata": {
        "id": "mUTd11b3EmQt"
      },
      "source": [
        "learning_rate = 0.01\n",
        "epochs = 40    \n",
        "minibatch = 128   \n",
        "display_step = 1   \n",
        "input_size = 784   \n",
        "h1_size = 256\n",
        "h2_size = 256\n",
        "output_size = 10"
      ],
      "execution_count": null,
      "outputs": []
    },
    {
      "cell_type": "markdown",
      "metadata": {
        "id": "o8FAM_-nEmQt"
      },
      "source": [
        "4. 플레이스홀더 정의"
      ]
    },
    {
      "cell_type": "code",
      "metadata": {
        "id": "7ugWCgYiEmQu"
      },
      "source": [
        "x = tf.placeholder(tf.float32, shape=[None, input_size])\n",
        "y = tf.placeholder(tf.float32, shape=[None, output_size])"
      ],
      "execution_count": null,
      "outputs": []
    },
    {
      "cell_type": "markdown",
      "metadata": {
        "id": "GjwoRtpyEmQu"
      },
      "source": [
        "5. 3 레이어 신경망 모델 함수"
      ]
    },
    {
      "cell_type": "code",
      "metadata": {
        "id": "tg45jUedEmQu"
      },
      "source": [
        "def ANN_fuction(x):\n",
        "    W1 = tf.Variable(tf.random_normal(shape=[input_size, h1_size]))\n",
        "    b1 = tf.Variable(tf.random_normal(shape=[h1_size]))\n",
        "    H1_output = tf.nn.relu(tf.matmul(x,W1) + b1)\n",
        "    W2 = tf.Variable(tf.random_normal(shape=[h1_size, h2_size]))\n",
        "    b2 = tf.Variable(tf.random_normal(shape=[h2_size]))\n",
        "    H2_output = tf.nn.relu(tf.matmul(H1_output,W2) + b2)\n",
        "    W_output = tf.Variable(tf.random_normal(shape=[h2_size, output_size]))\n",
        "    b_output = tf.Variable(tf.random_normal(shape=[output_size]))\n",
        "    logits = tf.matmul(H2_output,W_output) + b_output\n",
        "\n",
        "    return logits"
      ],
      "execution_count": null,
      "outputs": []
    },
    {
      "cell_type": "markdown",
      "metadata": {
        "id": "OpxAqN5QEmQv"
      },
      "source": [
        "6. 신경망 모델 함수 호출"
      ]
    },
    {
      "cell_type": "code",
      "metadata": {
        "id": "G7OCbliYEmQv"
      },
      "source": [
        "logits = ANN_fuction(x)"
      ],
      "execution_count": null,
      "outputs": []
    },
    {
      "cell_type": "markdown",
      "metadata": {
        "id": "koPSZK_nEmQv"
      },
      "source": [
        "7. 손실함수와 최적화 함수"
      ]
    },
    {
      "cell_type": "code",
      "metadata": {
        "id": "CzVpAbZGEmQw"
      },
      "source": [
        "loss = tf.reduce_mean(tf.nn.softmax_cross_entropy_with_logits_v2( logits=logits, labels=y))\n",
        "\n",
        "train_step = tf.train.GradientDescentOptimizer(learning_rate=learning_rate).minimize(loss)"
      ],
      "execution_count": null,
      "outputs": []
    },
    {
      "cell_type": "markdown",
      "metadata": {
        "id": "uwNud78WEmQw"
      },
      "source": [
        "8. 세션 시작"
      ]
    },
    {
      "cell_type": "code",
      "metadata": {
        "collapsed": true,
        "id": "37x_n5sKEmQw"
      },
      "source": [
        "with tf.Session() as sess:\n",
        "    sess.run(tf.global_variables_initializer())\n",
        "    # 훈련 시작\n",
        "    for epoch in range(epochs):\n",
        "        average_loss = 0.\n",
        "        total_batch = int(mnist.train.num_examples/minibatch)\n",
        "        for i in range(total_batch):\n",
        "            batch_x, batch_y = mnist.train.next_batch(minibatch)\n",
        "            _, current_loss = sess.run([train_step, loss], feed_dict={x: batch_x, y: batch_y})\n",
        "        average_loss += current_loss / total_batch\n",
        "        \n",
        "        # 훈련 상태(현재 에포크의 손실 값) 출력\n",
        "        if epoch % display_step == 0:\n",
        "            print(\"[Epoch] %d, [Loss] %f\" % ((epoch+1), average_loss))\n",
        "\n",
        "    # 모델 정확도 계산\n",
        "    correct_prediction = tf.equal(tf.argmax(logits, 1), tf.argmax(y, 1))\n",
        "    accuracy = tf.reduce_mean(tf.cast(correct_prediction, \"float\"))\n",
        "    print(\"[Accuracy] %f\" % (accuracy.eval(feed_dict={x: mnist.test.images, y: mnist.test.labels})))\n",
        "    \n",
        "    # 랜덤 데이터 예측 테스트\n",
        "    r = random.randint(0, mnist.test.num_examples - 1)\n",
        "    print(\"Label: \", sess.run(tf.argmax(mnist.test.labels[r:r + 1], 1)))\n",
        "    print(\"Prediction: \", sess.run(tf.argmax(logits, 1), feed_dict={x: mnist.test.images[r:r + 1]}))    \n",
        "    "
      ],
      "execution_count": null,
      "outputs": []
    },
    {
      "cell_type": "code",
      "metadata": {
        "id": "VIE8YThWEmQx"
      },
      "source": [
        ""
      ],
      "execution_count": null,
      "outputs": []
    }
  ]
}