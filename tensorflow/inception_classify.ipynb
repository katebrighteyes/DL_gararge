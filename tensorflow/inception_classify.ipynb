{
  "nbformat": 4,
  "nbformat_minor": 0,
  "metadata": {
    "colab": {
      "name": "inception_classify.ipynb",
      "private_outputs": true,
      "provenance": [],
      "collapsed_sections": []
    },
    "kernelspec": {
      "name": "python3",
      "display_name": "Python 3"
    }
  },
  "cells": [
    {
      "cell_type": "code",
      "metadata": {
        "id": "_Iim3PMALCKQ"
      },
      "source": [
        "ls"
      ],
      "execution_count": null,
      "outputs": []
    },
    {
      "cell_type": "markdown",
      "metadata": {
        "id": "PARvQ-SE8Xxx"
      },
      "source": [
        "# inception v2 분류 모델"
      ]
    },
    {
      "cell_type": "markdown",
      "metadata": {
        "id": "OBOIr4h38pIp"
      },
      "source": [
        "환경 세팅"
      ]
    },
    {
      "cell_type": "code",
      "metadata": {
        "id": "feeSJriSajtm"
      },
      "source": [
        "pip install setuptools==44.0.0 tensorflow==1.14.0 Cython contextlib2 matplotlib pillow lxml gast==0.2.2"
      ],
      "execution_count": null,
      "outputs": []
    },
    {
      "cell_type": "markdown",
      "metadata": {
        "id": "ftpjXJlgEYta"
      },
      "source": [
        "# 모델 라이브러리와 데이터 다운로드"
      ]
    },
    {
      "cell_type": "markdown",
      "metadata": {
        "id": "pb9dW5jJ89Ty"
      },
      "source": [
        "딥러닝에 필요한 models 폴더를 git 툴을 이용하여 다운로드 받습니다."
      ]
    },
    {
      "cell_type": "code",
      "metadata": {
        "id": "x2GWHmpwa0kU"
      },
      "source": [
        "!git clone https://github.com/tensorflow/models/"
      ],
      "execution_count": null,
      "outputs": []
    },
    {
      "cell_type": "code",
      "metadata": {
        "id": "A0xvXyU0bTz1"
      },
      "source": [
        "cd models"
      ],
      "execution_count": null,
      "outputs": []
    },
    {
      "cell_type": "code",
      "metadata": {
        "id": "uN8x9v3XbYlc"
      },
      "source": [
        "!git checkout faf5ad73be910e0010ec57b9fdd122976e8a9195"
      ],
      "execution_count": null,
      "outputs": []
    },
    {
      "cell_type": "code",
      "metadata": {
        "id": "z9Tymd3iboOl"
      },
      "source": [
        "cd ./research/slim"
      ],
      "execution_count": null,
      "outputs": []
    },
    {
      "cell_type": "markdown",
      "metadata": {
        "id": "03KvYz3-9RNK"
      },
      "source": [
        "models 에서 제공하는 python 스크립트를 이용하여 분류 테스트를 위한 flower데이터를 다운로드 받습니다. "
      ]
    },
    {
      "cell_type": "code",
      "metadata": {
        "id": "saKqBhELbucs"
      },
      "source": [
        "!python download_and_convert_data.py \\\r\n",
        "    --dataset_name=flowers \\\r\n",
        "    --dataset_dir=../../../flowers"
      ],
      "execution_count": null,
      "outputs": []
    },
    {
      "cell_type": "markdown",
      "metadata": {
        "id": "KI3MWjMo9ny5"
      },
      "source": [
        "다운로드 받은 데이터는 tfrecord 라는 tensorflow 에서 사용하는 데이터 형태로 지정된 폴더에 저장되어 있는 것을 확인할 수 있습니다."
      ]
    },
    {
      "cell_type": "code",
      "metadata": {
        "id": "17W5bTY5hVG8"
      },
      "source": [
        "ls ../../../flowers"
      ],
      "execution_count": null,
      "outputs": []
    },
    {
      "cell_type": "markdown",
      "metadata": {
        "id": "j_R7uMLA0uVR"
      },
      "source": [
        "# 네트워크 훈련"
      ]
    },
    {
      "cell_type": "markdown",
      "metadata": {
        "id": "4VQdKU1m0g-7"
      },
      "source": [
        "훈련을 위해 잘 훈련된 모델을 다운로드"
      ]
    },
    {
      "cell_type": "code",
      "metadata": {
        "id": "-sfFyTbB-H8R"
      },
      "source": [
        "cd /content/"
      ],
      "execution_count": null,
      "outputs": []
    },
    {
      "cell_type": "code",
      "metadata": {
        "id": "RyVed3ghhuiU"
      },
      "source": [
        "!mkdir ckp"
      ],
      "execution_count": null,
      "outputs": []
    },
    {
      "cell_type": "code",
      "metadata": {
        "id": "axr67Vzq-Gba"
      },
      "source": [
        "ls"
      ],
      "execution_count": null,
      "outputs": []
    },
    {
      "cell_type": "code",
      "metadata": {
        "id": "3hVYCCGxhzfE"
      },
      "source": [
        "cd ckp"
      ],
      "execution_count": null,
      "outputs": []
    },
    {
      "cell_type": "code",
      "metadata": {
        "id": "FI0LbrWHh2pm"
      },
      "source": [
        "!wget http://download.tensorflow.org/models/inception_v1_2016_08_28.tar.gz"
      ],
      "execution_count": null,
      "outputs": []
    },
    {
      "cell_type": "code",
      "metadata": {
        "id": "URkB_o2zh8mT"
      },
      "source": [
        "ls"
      ],
      "execution_count": null,
      "outputs": []
    },
    {
      "cell_type": "code",
      "metadata": {
        "id": "98qb7ApF-iCC"
      },
      "source": [
        "!tar xzf inception_v1_2016_08_28.tar.gz"
      ],
      "execution_count": null,
      "outputs": []
    },
    {
      "cell_type": "code",
      "metadata": {
        "id": "SaLSyy7f-yFa"
      },
      "source": [
        "ls"
      ],
      "execution_count": null,
      "outputs": []
    },
    {
      "cell_type": "markdown",
      "metadata": {
        "id": "C-AoIdns0paC"
      },
      "source": [
        "훈련을 위한 준비"
      ]
    },
    {
      "cell_type": "code",
      "metadata": {
        "id": "2nr7vP4Z_LDK"
      },
      "source": [
        "cd /content/"
      ],
      "execution_count": null,
      "outputs": []
    },
    {
      "cell_type": "code",
      "metadata": {
        "id": "4guq21aD_PSZ"
      },
      "source": [
        "mkdir traindata0"
      ],
      "execution_count": null,
      "outputs": []
    },
    {
      "cell_type": "code",
      "metadata": {
        "id": "fHV90CVeiWuS"
      },
      "source": [
        "cd /content/models/research/slim/"
      ],
      "execution_count": null,
      "outputs": []
    },
    {
      "cell_type": "markdown",
      "metadata": {
        "id": "3tOQJRqV00xT"
      },
      "source": [
        "훈련을 시작하기 전에 좌측 폴더 아이콘을 클릭하여 폴더 트리에서 /content/models/research/slim 폴더를  찾은 후 train_image_classifier.py 를 찾아서 더블클릭으로 열어준 후 다음과 같이 코드를 수정해준다.(책 내용 참조)\r\n",
        "\r\n",
        "* train_image_classifier.py 592 line 에 다음과 같이 수정\r\n",
        "\r\n",
        "-------------------------\r\n",
        "\r\n",
        "vim train_image_classifier.py\r\n",
        "\r\n",
        "    session_config = tf.ConfigProto(allow_soft_placement=True)\r\n",
        "\r\n",
        "    slim.learning.train(\r\n",
        "        train_tensor,\r\n",
        "        logdir=FLAGS.train_dir,\r\n",
        "        master=FLAGS.master,\r\n",
        "        is_chief=(FLAGS.task == 0),\r\n",
        "        init_fn=_get_init_fn(),\r\n",
        "        summary_op=summary_op,\r\n",
        "        number_of_steps=FLAGS.max_number_of_steps,\r\n",
        "        log_every_n_steps=FLAGS.log_every_n_steps,\r\n",
        "        save_summaries_secs=FLAGS.save_summaries_secs,\r\n",
        "        save_interval_secs=FLAGS.save_interval_secs,\r\n",
        "        sync_optimizer=optimizer if FLAGS.sync_replicas else None,\r\n",
        "        session_config = session_config,\r\n",
        "        )\r\n",
        "\r\n",
        "-----------------------------------\r\n"
      ]
    },
    {
      "cell_type": "markdown",
      "metadata": {
        "id": "jVcpu1qS1m0a"
      },
      "source": [
        "# 훈련 시작"
      ]
    },
    {
      "cell_type": "code",
      "metadata": {
        "id": "YsPRVpPUigNr"
      },
      "source": [
        "!python train_image_classifier.py \\\r\n",
        "    --train_dir=/content/traindata0 \\\r\n",
        "    --dataset_name=flowers \\\r\n",
        "    --dataset_split_name=train \\\r\n",
        "    --dataset_dir=/content/flowers \\\r\n",
        "    --model_name=inception_v1 \\\r\n",
        "    --max_number_of_steps=1000 \\\r\n",
        "    --checkpoint_path=/content/ckp/inception_v1.ckpt \\\r\n",
        "    --checkpoint_exclude_scopes=InceptionV1/Logits \\\r\n",
        "    --trainable_scopes=InceptionV1/Logits \\\r\n",
        "    --batch_size=32 \\\r\n",
        "    --learning_rate=0.01 \\\r\n",
        "    --learning_rate_decay_type=fixed \\\r\n",
        "    --save_interval_secs=100 \\\r\n",
        "    --log_every_n_steps_secs=100 \\\r\n",
        "    --optimizer=rmsprop \\\r\n",
        "    --weight_decay=0.00004\r\n"
      ],
      "execution_count": null,
      "outputs": []
    },
    {
      "cell_type": "code",
      "metadata": {
        "id": "XBjTTz68A5HD"
      },
      "source": [
        "ls /content/"
      ],
      "execution_count": null,
      "outputs": []
    },
    {
      "cell_type": "markdown",
      "metadata": {
        "id": "4IAKJ-nt19kB"
      },
      "source": [
        "생성된 체크포인트 확인"
      ]
    },
    {
      "cell_type": "code",
      "metadata": {
        "id": "u68zaA2UoCdU"
      },
      "source": [
        "ls /content/traindata0/"
      ],
      "execution_count": null,
      "outputs": []
    },
    {
      "cell_type": "markdown",
      "metadata": {
        "id": "F_hjgKYH2IcJ"
      },
      "source": [
        "#분류 모델 테스트"
      ]
    },
    {
      "cell_type": "markdown",
      "metadata": {
        "id": "GD4un8T92Q9S"
      },
      "source": [
        "모델 평가"
      ]
    },
    {
      "cell_type": "code",
      "metadata": {
        "id": "ahiwiVINCSHd"
      },
      "source": [
        "!python eval_image_classifier.py \\\r\n",
        "    -–alsologtostderr \\\r\n",
        "    --checkpoint_path=/content/traindata1\\\r\n",
        "    --dataset_dir=/content/flowers\\\r\n",
        "    --dataset_name=flowers \\\r\n",
        "    --dataset_split_name=validation \\\r\n",
        "    --model_name=inception_v1\r\n"
      ],
      "execution_count": null,
      "outputs": []
    }
  ]
}