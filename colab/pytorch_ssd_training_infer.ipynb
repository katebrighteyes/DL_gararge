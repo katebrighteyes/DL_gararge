{
  "nbformat": 4,
  "nbformat_minor": 0,
  "metadata": {
    "colab": {
      "name": "pytorch_ssd_training_infer.ipynb",
      "private_outputs": true,
      "provenance": [],
      "collapsed_sections": []
    },
    "kernelspec": {
      "name": "python3",
      "display_name": "Python 3"
    },
    "language_info": {
      "name": "python"
    },
    "accelerator": "GPU"
  },
  "cells": [
    {
      "cell_type": "code",
      "metadata": {
        "id": "r-7I0YF9aEu5"
      },
      "source": [
        "from google.colab import drive\n",
        "\n",
        "drive.mount('/content/gdrive')"
      ],
      "execution_count": null,
      "outputs": []
    },
    {
      "cell_type": "code",
      "metadata": {
        "id": "bjmADx0Faew9"
      },
      "source": [
        "cd gdrive/MyDrive/ssd/"
      ],
      "execution_count": null,
      "outputs": []
    },
    {
      "cell_type": "code",
      "metadata": {
        "id": "C3FaASk1dKiN"
      },
      "source": [
        "pwd"
      ],
      "execution_count": null,
      "outputs": []
    },
    {
      "cell_type": "code",
      "metadata": {
        "id": "DXgLDVboaGWO"
      },
      "source": [
        "!git clone https://github.com/dusty-nv/pytorch-ssd"
      ],
      "execution_count": null,
      "outputs": []
    },
    {
      "cell_type": "code",
      "metadata": {
        "id": "_Mg8SOJae4Y6"
      },
      "source": [
        "cd pytorch-ssd/"
      ],
      "execution_count": null,
      "outputs": []
    },
    {
      "cell_type": "code",
      "metadata": {
        "id": "NlEaKSsVkxg9"
      },
      "source": [
        " !wget https://nvidia.box.com/shared/static/djf5w54rjvpqocsiztzaandq1m3avr7c.pth -O models/mobilenet-v1-ssd-mp-0_675.pth"
      ],
      "execution_count": null,
      "outputs": []
    },
    {
      "cell_type": "code",
      "metadata": {
        "id": "DB6UsTHBlE5V"
      },
      "source": [
        "!pip3 install -v -r requirements.txt"
      ],
      "execution_count": null,
      "outputs": []
    },
    {
      "cell_type": "code",
      "metadata": {
        "id": "LABZ62cbfKGp"
      },
      "source": [
        "!python3 open_images_downloader.py --max-images=2500 --class-names \"Apple,Orange,Banana,Strawberry,Grape,Pear,Pineapple,Watermelon\" --data=data/fruit"
      ],
      "execution_count": null,
      "outputs": []
    },
    {
      "cell_type": "code",
      "metadata": {
        "id": "EF_Hug-LgSYK"
      },
      "source": [
        "import torch\n",
        "print(torch.__version__)"
      ],
      "execution_count": null,
      "outputs": []
    },
    {
      "cell_type": "code",
      "metadata": {
        "id": "Gc5z_jWRbOZw"
      },
      "source": [
        "ls"
      ],
      "execution_count": null,
      "outputs": []
    },
    {
      "cell_type": "code",
      "metadata": {
        "id": "bnpRCPRQbMPt"
      },
      "source": [
        "!wget https://nvidia.box.com/shared/static/gq0zlf0g2r258g3ldabl9o7vch18cxmi.gz"
      ],
      "execution_count": null,
      "outputs": []
    },
    {
      "cell_type": "code",
      "metadata": {
        "id": "8z54Y4MqcrL5"
      },
      "source": [
        "'''\n",
        "!python3 train_ssd.py --data=data/fruit --model-dir=models/fruit --batch-size=16 --epochs=30\n",
        "'''"
      ],
      "execution_count": null,
      "outputs": []
    },
    {
      "cell_type": "code",
      "metadata": {
        "id": "1iIkniw3bvZ8"
      },
      "source": [
        "ls"
      ],
      "execution_count": null,
      "outputs": []
    },
    {
      "cell_type": "code",
      "metadata": {
        "id": "4CTbX7oUbmfD"
      },
      "source": [
        "!tar xzf gq0zlf0g2r258g3ldabl9o7vch18cxmi.gz -C models"
      ],
      "execution_count": null,
      "outputs": []
    },
    {
      "cell_type": "code",
      "metadata": {
        "id": "WjhuLF2ubwkB"
      },
      "source": [
        "ls models"
      ],
      "execution_count": null,
      "outputs": []
    },
    {
      "cell_type": "code",
      "metadata": {
        "id": "er3Fy63hcl8R"
      },
      "source": [
        "ls models/ssd-mobilenet-fruit"
      ],
      "execution_count": null,
      "outputs": []
    },
    {
      "cell_type": "code",
      "metadata": {
        "id": "vdVMutLoIepU"
      },
      "source": [
        "cd .."
      ],
      "execution_count": null,
      "outputs": []
    },
    {
      "cell_type": "code",
      "metadata": {
        "id": "gQFDAfXIJW9d"
      },
      "source": [
        "!python3 train_ssd.py --data=data/fruit --model-dir=models/fruit --batch-size=16 --epochs=3 --pretrained-ssd=models/ssd-mobilenet-fruit/mb1-ssd-Epoch-99-Loss-3.454277849197388.pth --lr=0.0001"
      ],
      "execution_count": null,
      "outputs": []
    },
    {
      "cell_type": "code",
      "metadata": {
        "id": "2u_RJyHYUq6K"
      },
      "source": [
        "def imShow(path):\n",
        "  import cv2\n",
        "  import matplotlib.pyplot as plt\n",
        "  %matplotlib inline\n",
        "\n",
        "  image = cv2.imread(path)\n",
        "  height, width = image.shape[:2]\n",
        "  resized_image = cv2.resize(image,(3*width, 3*height), interpolation = cv2.INTER_CUBIC)\n",
        "\n",
        "  fig = plt.gcf()\n",
        "  fig.set_size_inches(18, 10)\n",
        "  plt.axis(\"off\")\n",
        "  plt.imshow(cv2.cvtColor(resized_image, cv2.COLOR_BGR2RGB))\n",
        "  plt.show()"
      ],
      "execution_count": null,
      "outputs": []
    },
    {
      "cell_type": "code",
      "metadata": {
        "id": "9uVkH6aOJl1l"
      },
      "source": [
        "ls -al models/fruit"
      ],
      "execution_count": null,
      "outputs": []
    },
    {
      "cell_type": "code",
      "metadata": {
        "id": "Ub8eCxuJUj5T"
      },
      "source": [
        "imShow('data/fruit/test/testimage2.jpg')"
      ],
      "execution_count": null,
      "outputs": []
    },
    {
      "cell_type": "code",
      "metadata": {
        "id": "ChNxJLFxMRIN"
      },
      "source": [
        "!python3 run_ssd_example.py mb1-ssd models/fruit/mb1-ssd-Epoch-4.pth models/fruit/labels.txt data/fruit/test/testimage2.jpg"
      ],
      "execution_count": null,
      "outputs": []
    },
    {
      "cell_type": "code",
      "metadata": {
        "id": "60vrxGRkUuu6"
      },
      "source": [
        "ls"
      ],
      "execution_count": null,
      "outputs": []
    },
    {
      "cell_type": "code",
      "metadata": {
        "id": "YP2CBE9YN377"
      },
      "source": [
        "imShow('run_ssd_example_output.jpg')"
      ],
      "execution_count": null,
      "outputs": []
    }
  ]
}